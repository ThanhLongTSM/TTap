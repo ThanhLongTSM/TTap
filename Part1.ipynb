{
 "cells": [
  {
   "cell_type": "markdown",
   "metadata": {
    "id": "7OuV-8557pKL"
   },
   "source": [
    "# Giới thiệu\n",
    "\n",
    "### Mục tiêu bài tập\n",
    "\n",
    "* Hiểu thêm về cách hoạt động của Numpy và Tensorflow \n",
    "* Có thể viết một thuật toán đơn giản (và debug) với `Tensorflow` và `Numpy` qua ví dụ về hồi quy tuyến tính.\n",
    "* Hiểu thêm về hồi quy tuyến tính.\n",
    "* Tối ưu các tham số của mô hình.\n",
    "\n",
    "# Giới thiệu bài toán và dữ liệu\n",
    "\n",
    "Bài toán lần này, chúng ta sẽ cùng nhau dự đoán giá nhà tại một thành phố Boston ở Mỹ với kích thước mẫu với 506 giá trị với 13 thuộc tính như sau\n",
    "\n",
    "```\n",
    "- CRIM per capita crime rate by town\n",
    "- ZN proportion of residential land zoned for lots over 25,000 sq.ft.\n",
    "- INDUS proportion of non-retail business acres per town\n",
    "- CHAS Charles River dummy variable (= 1 if tract bounds river; 0 otherwise)\n",
    "- NOX nitric oxides concentration (parts per 10 million)\n",
    "- RM average number of rooms per dwelling\n",
    "- AGE proportion of owner-occupied units built prior to 1940\n",
    "- DIS weighted distances to five Boston employment centres\n",
    "- RAD index of accessibility to radial highways\n",
    "- TAX full-value property-tax rate per $10,000\n",
    "- PTRATIO pupil-teacher ratio by town\n",
    "- B 1000(Bk - 0.63)ˆ2 where Bk is the proportion of blacks by town\n",
    "- LSTAT % lower status of the population\n",
    "- MEDV Median value of owner-occupied homes in $1000's\n",
    "```\n",
    "\n",
    "Với thông tin này, ta sẽ cùng nhau tiến hành xây dựng một hàm giả thuyết theo mô hình hồi quy tuyến tính dựa trên `numpy` và `tensorflow` để đưa ra giá nhà dựa trên tối đa 10 thuộc tính.\n",
    "# Chấm điểm\n",
    "Bài tập này chiếm 50% số điểm cuối kì của mỗi bạn. Điểm được chấm dựa trên các yếu tố sau:\n",
    "\n",
    "### Báo cáo đầy đủ rõ ràng các công việc đã làm, chứng minh được công việc đã làm thỏa các yêu cầu của đề bài (2 điểm)\n",
    "\n",
    "### Chương trình chạy được huấn luyện được mô hình, tính toán được Jtest, Jtrain\n",
    "+ load dữ liệu (1 điểm)\n",
    "+ trình bày dữ liệu trước khi huấn luyện (1 điểm)\n",
    "+ xây dựng được mô hình (1 điểm)\n",
    "+ tính được độ chính xác của mô hình với tập huấn luyện, tập cross validation, tập test (1 điểm)\n",
    "\n",
    "### Tối ưu hóa được các tham số của mô hình (4 điểm)\n",
    "+ tối ưu được các tham số cho mô hình và giải thích. Được chọn tối đa 10 thuộc tính trong số các thuộc tính được cung cấp.\n",
    "\n",
    "Ghi chú: khi vấn đáp mỗi thành viên sẽ được hỏi một câu bất kì liên quan đến các phần trên"
   ]
  },
  {
   "cell_type": "markdown",
   "metadata": {
    "id": "1ch-kJM17pKR"
   },
   "source": [
    "### I/ Tìm nghiệm bài toán Linear Regression bằng `Numpy`"
   ]
  },
  {
   "cell_type": "markdown",
   "metadata": {
    "id": "TV5l6tPY7pKS"
   },
   "source": [
    "#### Nhập thư viện"
   ]
  },
  {
   "cell_type": "code",
   "execution_count": 87,
   "metadata": {
    "id": "rRhusPuV7pKU"
   },
   "outputs": [],
   "source": [
    "import numpy as np\n",
    "import pandas as pd\n",
    "import matplotlib.pyplot as plt\n",
    "%matplotlib inline\n",
    "import sklearn.metrics"
   ]
  },
  {
   "cell_type": "code",
   "execution_count": 88,
   "metadata": {
    "colab": {
     "base_uri": "https://localhost:8080/"
    },
    "id": "Qv0uNZha1gEw",
    "outputId": "f7c4147a-c484-4c7a-aa1c-010e30c8a071"
   },
   "outputs": [],
   "source": [
    "# from google.colab import drive\n",
    "# drive.mount('/content/drive')"
   ]
  },
  {
   "cell_type": "markdown",
   "metadata": {
    "id": "D1QMFAyE7pKV"
   },
   "source": [
    "#### Đọc dữ liệu"
   ]
  },
  {
   "cell_type": "code",
   "execution_count": 89,
   "metadata": {
    "colab": {
     "base_uri": "https://localhost:8080/",
     "height": 424
    },
    "id": "TLSA73kK7pKW",
    "outputId": "040527fc-c97d-469d-c05f-9ac31bef4244"
   },
   "outputs": [
    {
     "data": {
      "text/html": [
       "<div>\n",
       "<style scoped>\n",
       "    .dataframe tbody tr th:only-of-type {\n",
       "        vertical-align: middle;\n",
       "    }\n",
       "\n",
       "    .dataframe tbody tr th {\n",
       "        vertical-align: top;\n",
       "    }\n",
       "\n",
       "    .dataframe thead th {\n",
       "        text-align: right;\n",
       "    }\n",
       "</style>\n",
       "<table border=\"1\" class=\"dataframe\">\n",
       "  <thead>\n",
       "    <tr style=\"text-align: right;\">\n",
       "      <th></th>\n",
       "      <th>crim</th>\n",
       "      <th>zn</th>\n",
       "      <th>indus</th>\n",
       "      <th>chas</th>\n",
       "      <th>nox</th>\n",
       "      <th>rm</th>\n",
       "      <th>age</th>\n",
       "      <th>dis</th>\n",
       "      <th>rad</th>\n",
       "      <th>tax</th>\n",
       "      <th>ptratio</th>\n",
       "      <th>black</th>\n",
       "      <th>lstat</th>\n",
       "      <th>medv</th>\n",
       "    </tr>\n",
       "  </thead>\n",
       "  <tbody>\n",
       "    <tr>\n",
       "      <th>1</th>\n",
       "      <td>0.00632</td>\n",
       "      <td>18.0</td>\n",
       "      <td>2.31</td>\n",
       "      <td>0</td>\n",
       "      <td>0.538</td>\n",
       "      <td>6.575</td>\n",
       "      <td>65.2</td>\n",
       "      <td>4.0900</td>\n",
       "      <td>1</td>\n",
       "      <td>296.0</td>\n",
       "      <td>15.3</td>\n",
       "      <td>396.90</td>\n",
       "      <td>4.98</td>\n",
       "      <td>24.0</td>\n",
       "    </tr>\n",
       "    <tr>\n",
       "      <th>2</th>\n",
       "      <td>0.02731</td>\n",
       "      <td>0.0</td>\n",
       "      <td>7.07</td>\n",
       "      <td>0</td>\n",
       "      <td>0.469</td>\n",
       "      <td>6.421</td>\n",
       "      <td>78.9</td>\n",
       "      <td>4.9671</td>\n",
       "      <td>2</td>\n",
       "      <td>242.0</td>\n",
       "      <td>17.8</td>\n",
       "      <td>396.90</td>\n",
       "      <td>9.14</td>\n",
       "      <td>21.6</td>\n",
       "    </tr>\n",
       "    <tr>\n",
       "      <th>3</th>\n",
       "      <td>0.02729</td>\n",
       "      <td>0.0</td>\n",
       "      <td>7.07</td>\n",
       "      <td>0</td>\n",
       "      <td>0.469</td>\n",
       "      <td>7.185</td>\n",
       "      <td>61.1</td>\n",
       "      <td>4.9671</td>\n",
       "      <td>2</td>\n",
       "      <td>242.0</td>\n",
       "      <td>17.8</td>\n",
       "      <td>392.83</td>\n",
       "      <td>4.03</td>\n",
       "      <td>34.7</td>\n",
       "    </tr>\n",
       "    <tr>\n",
       "      <th>4</th>\n",
       "      <td>0.03237</td>\n",
       "      <td>0.0</td>\n",
       "      <td>2.18</td>\n",
       "      <td>0</td>\n",
       "      <td>0.458</td>\n",
       "      <td>6.998</td>\n",
       "      <td>45.8</td>\n",
       "      <td>6.0622</td>\n",
       "      <td>3</td>\n",
       "      <td>222.0</td>\n",
       "      <td>18.7</td>\n",
       "      <td>394.63</td>\n",
       "      <td>2.94</td>\n",
       "      <td>33.4</td>\n",
       "    </tr>\n",
       "    <tr>\n",
       "      <th>5</th>\n",
       "      <td>0.06905</td>\n",
       "      <td>0.0</td>\n",
       "      <td>2.18</td>\n",
       "      <td>0</td>\n",
       "      <td>0.458</td>\n",
       "      <td>7.147</td>\n",
       "      <td>54.2</td>\n",
       "      <td>6.0622</td>\n",
       "      <td>3</td>\n",
       "      <td>222.0</td>\n",
       "      <td>18.7</td>\n",
       "      <td>396.90</td>\n",
       "      <td>5.33</td>\n",
       "      <td>36.2</td>\n",
       "    </tr>\n",
       "    <tr>\n",
       "      <th>...</th>\n",
       "      <td>...</td>\n",
       "      <td>...</td>\n",
       "      <td>...</td>\n",
       "      <td>...</td>\n",
       "      <td>...</td>\n",
       "      <td>...</td>\n",
       "      <td>...</td>\n",
       "      <td>...</td>\n",
       "      <td>...</td>\n",
       "      <td>...</td>\n",
       "      <td>...</td>\n",
       "      <td>...</td>\n",
       "      <td>...</td>\n",
       "      <td>...</td>\n",
       "    </tr>\n",
       "    <tr>\n",
       "      <th>502</th>\n",
       "      <td>0.06263</td>\n",
       "      <td>0.0</td>\n",
       "      <td>11.93</td>\n",
       "      <td>0</td>\n",
       "      <td>0.573</td>\n",
       "      <td>6.593</td>\n",
       "      <td>69.1</td>\n",
       "      <td>2.4786</td>\n",
       "      <td>1</td>\n",
       "      <td>273.0</td>\n",
       "      <td>21.0</td>\n",
       "      <td>391.99</td>\n",
       "      <td>9.67</td>\n",
       "      <td>22.4</td>\n",
       "    </tr>\n",
       "    <tr>\n",
       "      <th>503</th>\n",
       "      <td>0.04527</td>\n",
       "      <td>0.0</td>\n",
       "      <td>11.93</td>\n",
       "      <td>0</td>\n",
       "      <td>0.573</td>\n",
       "      <td>6.120</td>\n",
       "      <td>76.7</td>\n",
       "      <td>2.2875</td>\n",
       "      <td>1</td>\n",
       "      <td>273.0</td>\n",
       "      <td>21.0</td>\n",
       "      <td>396.90</td>\n",
       "      <td>9.08</td>\n",
       "      <td>20.6</td>\n",
       "    </tr>\n",
       "    <tr>\n",
       "      <th>504</th>\n",
       "      <td>0.06076</td>\n",
       "      <td>0.0</td>\n",
       "      <td>11.93</td>\n",
       "      <td>0</td>\n",
       "      <td>0.573</td>\n",
       "      <td>6.976</td>\n",
       "      <td>91.0</td>\n",
       "      <td>2.1675</td>\n",
       "      <td>1</td>\n",
       "      <td>273.0</td>\n",
       "      <td>21.0</td>\n",
       "      <td>396.90</td>\n",
       "      <td>5.64</td>\n",
       "      <td>23.9</td>\n",
       "    </tr>\n",
       "    <tr>\n",
       "      <th>505</th>\n",
       "      <td>0.10959</td>\n",
       "      <td>0.0</td>\n",
       "      <td>11.93</td>\n",
       "      <td>0</td>\n",
       "      <td>0.573</td>\n",
       "      <td>6.794</td>\n",
       "      <td>89.3</td>\n",
       "      <td>2.3889</td>\n",
       "      <td>1</td>\n",
       "      <td>273.0</td>\n",
       "      <td>21.0</td>\n",
       "      <td>393.45</td>\n",
       "      <td>6.48</td>\n",
       "      <td>22.0</td>\n",
       "    </tr>\n",
       "    <tr>\n",
       "      <th>506</th>\n",
       "      <td>0.04741</td>\n",
       "      <td>0.0</td>\n",
       "      <td>11.93</td>\n",
       "      <td>0</td>\n",
       "      <td>0.573</td>\n",
       "      <td>6.030</td>\n",
       "      <td>80.8</td>\n",
       "      <td>2.5050</td>\n",
       "      <td>1</td>\n",
       "      <td>273.0</td>\n",
       "      <td>21.0</td>\n",
       "      <td>396.90</td>\n",
       "      <td>7.88</td>\n",
       "      <td>11.9</td>\n",
       "    </tr>\n",
       "  </tbody>\n",
       "</table>\n",
       "<p>506 rows × 14 columns</p>\n",
       "</div>"
      ],
      "text/plain": [
       "        crim    zn  indus  chas    nox     rm   age     dis  rad    tax  \\\n",
       "1    0.00632  18.0   2.31     0  0.538  6.575  65.2  4.0900    1  296.0   \n",
       "2    0.02731   0.0   7.07     0  0.469  6.421  78.9  4.9671    2  242.0   \n",
       "3    0.02729   0.0   7.07     0  0.469  7.185  61.1  4.9671    2  242.0   \n",
       "4    0.03237   0.0   2.18     0  0.458  6.998  45.8  6.0622    3  222.0   \n",
       "5    0.06905   0.0   2.18     0  0.458  7.147  54.2  6.0622    3  222.0   \n",
       "..       ...   ...    ...   ...    ...    ...   ...     ...  ...    ...   \n",
       "502  0.06263   0.0  11.93     0  0.573  6.593  69.1  2.4786    1  273.0   \n",
       "503  0.04527   0.0  11.93     0  0.573  6.120  76.7  2.2875    1  273.0   \n",
       "504  0.06076   0.0  11.93     0  0.573  6.976  91.0  2.1675    1  273.0   \n",
       "505  0.10959   0.0  11.93     0  0.573  6.794  89.3  2.3889    1  273.0   \n",
       "506  0.04741   0.0  11.93     0  0.573  6.030  80.8  2.5050    1  273.0   \n",
       "\n",
       "     ptratio   black  lstat  medv  \n",
       "1       15.3  396.90   4.98  24.0  \n",
       "2       17.8  396.90   9.14  21.6  \n",
       "3       17.8  392.83   4.03  34.7  \n",
       "4       18.7  394.63   2.94  33.4  \n",
       "5       18.7  396.90   5.33  36.2  \n",
       "..       ...     ...    ...   ...  \n",
       "502     21.0  391.99   9.67  22.4  \n",
       "503     21.0  396.90   9.08  20.6  \n",
       "504     21.0  396.90   5.64  23.9  \n",
       "505     21.0  393.45   6.48  22.0  \n",
       "506     21.0  396.90   7.88  11.9  \n",
       "\n",
       "[506 rows x 14 columns]"
      ]
     },
     "execution_count": 89,
     "metadata": {},
     "output_type": "execute_result"
    }
   ],
   "source": [
    "# data=pd.read_csv('/content/drive/My Drive/Getting Know ML/housing.csv', delim_whitespace=' ', header=None)\n",
    "data=pd.read_csv(r'C:\\Users\\Thanh Long\\Desktop\\AI\\data\\housing.csv', delim_whitespace=' ', header=None)\n",
    "data.columns=['crim','zn','indus','chas','nox','rm','age','dis','rad','tax','ptratio','black','lstat','medv']\n",
    "data.index = np.arange(1, len(data)+1)\n",
    "data"
   ]
  },
  {
   "cell_type": "markdown",
   "metadata": {
    "id": "xhqBZ-CLzoZe"
   },
   "source": [
    "# Chọn 5 features là indus, rm, age,dí, ptratio"
   ]
  },
  {
   "cell_type": "code",
   "execution_count": 90,
   "metadata": {
    "id": "v5rXQAGr3B1D"
   },
   "outputs": [],
   "source": [
    "features=['indus','rm','age','dis','ptratio']"
   ]
  },
  {
   "cell_type": "code",
   "execution_count": 91,
   "metadata": {
    "id": "LLsMtgd_3NOw"
   },
   "outputs": [],
   "source": [
    "X=data[features]\n",
    "y=data['medv']"
   ]
  },
  {
   "cell_type": "code",
   "execution_count": 92,
   "metadata": {
    "id": "JzSNif703hs9"
   },
   "outputs": [],
   "source": [
    "from sklearn.model_selection import train_test_split\n",
    "\n",
    "train_X,test_X,train_y,test_y=train_test_split(X,y,train_size=0.8,random_state=0)"
   ]
  },
  {
   "cell_type": "code",
   "execution_count": 93,
   "metadata": {},
   "outputs": [],
   "source": [
    "# from sklearn.preprocessing import StandardScaler\n",
    "# sc_X = StandardScaler()\n",
    "# train_X = sc_X.fit_transform(train_X)\n",
    "# test_X = sc_X.transform(test_X)"
   ]
  },
  {
   "cell_type": "code",
   "execution_count": 94,
   "metadata": {
    "id": "kgy-68uq3xJb"
   },
   "outputs": [],
   "source": [
    "train_X=train_X.values\n",
    "train_y=train_y.values\n",
    "test_X=test_X.values\n",
    "test_y=test_y.values\n"
   ]
  },
  {
   "cell_type": "markdown",
   "metadata": {
    "id": "vecJcY9M7pKc"
   },
   "source": [
    "#### Minh họa dữ liệu"
   ]
  },
  {
   "cell_type": "code",
   "execution_count": 95,
   "metadata": {
    "colab": {
     "base_uri": "https://localhost:8080/",
     "height": 235
    },
    "id": "AsRrxlFF7pKd",
    "outputId": "286b0897-98a9-4806-9a1e-d15ebbd7f290"
   },
   "outputs": [
    {
     "data": {
      "image/png": "[encoded data removed]",
      "text/plain": [
       "<Figure size 720x720 with 6 Axes>"
      ]
     },
     "metadata": {
      "needs_background": "light"
     },
     "output_type": "display_data"
    }
   ],
   "source": [
    "fig,ax=plt.subplots(nrows=3,ncols=2,figsize=(10,10));\n",
    "ax[0,0].scatter(train_X[:,0],train_y);\n",
    "ax[0,1].scatter(train_X[:,1],train_y);\n",
    "ax[1,0].scatter(train_X[:,2],train_y);\n",
    "ax[1,1].scatter(train_X[:,3],train_y);\n",
    "ax[2,0].scatter(train_X[:,4],train_y);\n"
   ]
  },
  {
   "cell_type": "markdown",
   "metadata": {
    "id": "iRDdk0pO7pKe"
   },
   "source": [
    "Hiên thời, vecto của ta đang có dạng như sau:"
   ]
  },
  {
   "cell_type": "code",
   "execution_count": 96,
   "metadata": {
    "colab": {
     "base_uri": "https://localhost:8080/"
    },
    "id": "sdwiXog37pKf",
    "outputId": "5097803b-f0ca-44f0-90c8-804104cce413"
   },
   "outputs": [
    {
     "name": "stdout",
     "output_type": "stream",
     "text": [
      "Size of data X train matrix (404, 5)\n",
      "Size of data Y train array (404,)\n",
      "Size of data X test matrix (102, 5)\n",
      "Size of data Y test array (102,)\n"
     ]
    }
   ],
   "source": [
    "print(\"Size of data X train matrix %s\"  % str(train_X.shape))\n",
    "print(\"Size of data Y train array %s\"  % str(train_y.shape))\n",
    "print(\"Size of data X test matrix %s\"  % str(test_X.shape))\n",
    "print(\"Size of data Y test array %s\"  % str(test_y.shape))"
   ]
  },
  {
   "cell_type": "code",
   "execution_count": 97,
   "metadata": {
    "id": "CN1xg01w7pKg"
   },
   "outputs": [
    {
     "name": "stdout",
     "output_type": "stream",
     "text": [
      "Requirement already satisfied: scikit-learn in c:\\users\\thanh long\\anaconda3\\lib\\site-packages (1.0.2)\n",
      "Requirement already satisfied: numpy>=1.14.6 in c:\\users\\thanh long\\anaconda3\\lib\\site-packages (from scikit-learn) (1.21.5)\n",
      "Requirement already satisfied: joblib>=0.11 in c:\\users\\thanh long\\anaconda3\\lib\\site-packages (from scikit-learn) (1.1.0)\n",
      "Requirement already satisfied: scipy>=1.1.0 in c:\\users\\thanh long\\anaconda3\\lib\\site-packages (from scikit-learn) (1.7.3)\n",
      "Requirement already satisfied: threadpoolctl>=2.0.0 in c:\\users\\thanh long\\anaconda3\\lib\\site-packages (from scikit-learn) (2.2.0)\n"
     ]
    }
   ],
   "source": [
    "!pip install scikit-learn"
   ]
  },
  {
   "cell_type": "markdown",
   "metadata": {
    "id": "LAmf7VIW7pKg"
   },
   "source": [
    "#### Bài 1. Viết hàm cost function\n",
    "$$J(w) = \\frac{1}{m} \\sum_{i=1}^m loss(\\hat{y}^{(i)}, y^{(i)})= \\frac{1}{2m} \\sum_{i=1}^m (\\hat{y}^{(i)}-y^{(i)})^2 $$\n",
    "Khai triển, ta có kết quả:\n",
    "$$J(w) = \\frac{1}{2m} \\sum_{i=1}^m (w_1 x_1^{(i)} + w_2 x_2^{(i)} + b - y^{(i)})^2 $$"
   ]
  },
  {
   "cell_type": "markdown",
   "metadata": {
    "id": "AmYbQ9oX7pKh"
   },
   "source": [
    "#### 1.1. Viết chương trình"
   ]
  },
  {
   "cell_type": "code",
   "execution_count": 98,
   "metadata": {
    "id": "ZA6Rq1or7pKh"
   },
   "outputs": [],
   "source": [
    "def np_cost(w, b, X, y):\n",
    "    '''\n",
    "    Evaluate the cost function in a non-vectorized manner for \n",
    "    inputs `X` and targets `y`, at weights `w` and `b`.\n",
    "    \n",
    "    X: 2D array dataset that has (m, n) dimension. \n",
    "    y: list of targets that has (n, ) dimension.\n",
    "    w: list of weights that has (n, ) dimension\n",
    "    b: a scalar bias.\n",
    "    \n",
    "    Return a scalar cost value of `w`, `b`.\n",
    "    '''\n",
    "    \n",
    "    cost = 0\n",
    "    m = X.shape[0]\n",
    "    for i in range(m):\n",
    "        \n",
    "        # TODO: complete below expression to calculate cost function\n",
    "        y_hat = w[0]*X[i, 0] + w[1]*X[i, 1] + w[2]*X[i, 2] + w[3]*X[i, 3] + w[4]*X[i, 4] +  b # hypothesis\n",
    "        cost += (y_hat - y[i])**2 # sum cost of each data point.\n",
    "        \n",
    "    return cost/(2*m)"
   ]
  },
  {
   "cell_type": "markdown",
   "metadata": {
    "id": "JqUpCDux7pKh"
   },
   "source": [
    "#### 1.2 Chạy thử chương trình "
   ]
  },
  {
   "cell_type": "code",
   "execution_count": 99,
   "metadata": {
    "colab": {
     "base_uri": "https://localhost:8080/"
    },
    "id": "Qr_BPc1e7pKi",
    "outputId": "784b1f19-e934-410d-fdd2-62948cd9541c"
   },
   "outputs": [
    {
     "data": {
      "text/plain": [
       "60404.43114511859"
      ]
     },
     "execution_count": 99,
     "metadata": {},
     "output_type": "execute_result"
    }
   ],
   "source": [
    "np_cost([1,2,3,4,5], 20, train_X, train_y) "
   ]
  },
  {
   "cell_type": "code",
   "execution_count": 100,
   "metadata": {
    "colab": {
     "base_uri": "https://localhost:8080/"
    },
    "id": "Y2ZocSTj7pKi",
    "outputId": "8a55a752-434e-4ffe-f11a-22d0611884e9"
   },
   "outputs": [
    {
     "data": {
      "text/plain": [
       "53892.63746195028"
      ]
     },
     "execution_count": 100,
     "metadata": {},
     "output_type": "execute_result"
    }
   ],
   "source": [
    "np_cost([1,2,3,4,5], 0, train_X, train_y) "
   ]
  },
  {
   "cell_type": "markdown",
   "metadata": {
    "id": "51WPbZTG7pKi"
   },
   "source": [
    "#### Bài 2. Vector hóa hàm cost\n",
    "\n",
    "Ngoài ra, ta còn có thể viết lại công thức trên như sau:\n",
    "\n",
    "$$J(w) = \\frac{1}{2m} \\| X w + b  - y \\| ^2$$ "
   ]
  },
  {
   "cell_type": "markdown",
   "metadata": {
    "id": "PMuiOpcS7pKk"
   },
   "source": [
    "#### 2.1 Viết chương trình"
   ]
  },
  {
   "cell_type": "code",
   "execution_count": 101,
   "metadata": {
    "id": "Hs6trO7w7pKk"
   },
   "outputs": [],
   "source": [
    "def np_cost_vectorized(w, b, X, y):\n",
    "    '''\n",
    "    Evaluate the cost function in a vectorized manner for \n",
    "    inputs `X` and targets `t`, at weights `w` and `b`.\n",
    "    \n",
    "    X: dataset matrix has (m, n) dimension. \n",
    "    y: targets vector has (n, ) dimension.\n",
    "    w: weights vector has (n, ) dimension\n",
    "    b: a scalar bias.\n",
    "    \n",
    "    Return a scalar cost value of `w`, `b`.\n",
    "    '''\n",
    "    \n",
    "    #TODO: Complete the following expression\n",
    "    m = X.shape[0] # number of samples in dataset\n",
    "    w = np.array(w) # convert to numpy array\n",
    "    y_hat = np.dot(X, w) + b# hypothesis\n",
    "    \n",
    "    return np.sum((y_hat - y)**2)/(2*m)"
   ]
  },
  {
   "cell_type": "markdown",
   "metadata": {
    "id": "Wrg_wFt-7pKk"
   },
   "source": [
    "#### 2.2 Chạy thử chương trình"
   ]
  },
  {
   "cell_type": "code",
   "execution_count": 102,
   "metadata": {
    "colab": {
     "base_uri": "https://localhost:8080/"
    },
    "id": "nc03GZ907pKk",
    "outputId": "1341e94e-1419-40ba-c8d3-2dc3b534f99f"
   },
   "outputs": [
    {
     "data": {
      "text/plain": [
       "60404.43114511862"
      ]
     },
     "execution_count": 102,
     "metadata": {},
     "output_type": "execute_result"
    }
   ],
   "source": [
    "np_cost_vectorized([1,2,3,4,5], 20, train_X, train_y) # 2256.1627893564355"
   ]
  },
  {
   "cell_type": "code",
   "execution_count": 103,
   "metadata": {
    "colab": {
     "base_uri": "https://localhost:8080/"
    },
    "id": "AY94Jktm7pKl",
    "outputId": "8c501c93-74df-4b53-a72e-f21feb1f05d0"
   },
   "outputs": [
    {
     "data": {
      "text/plain": [
       "53892.637461950304"
      ]
     },
     "execution_count": 103,
     "metadata": {},
     "output_type": "execute_result"
    }
   ],
   "source": [
    "np_cost_vectorized([1,2,3,4,5], 0, train_X, train_y) # 1210.8142745049508"
   ]
  },
  {
   "cell_type": "markdown",
   "metadata": {
    "id": "NZyIey_47pKl"
   },
   "source": [
    "#### Bài 4.Tính vector gradient của w\n",
    "\n",
    "Với $i = 1...m $ và $j = 1...n$ xét\n",
    "\n",
    "$$ \\frac{\\partial J}{\\partial w_j} = \\frac{1}{m}\\sum_{i=1}^m x_j^{(i)}(\\hat{y}^{(i)}-y^{(i)}) $$\n",
    "\n",
    "\n",
    "\n",
    "#### 4.1 Viết chương trình với vòng `for`"
   ]
  },
  {
   "cell_type": "code",
   "execution_count": 104,
   "metadata": {
    "id": "nz_DZZQu7pKl"
   },
   "outputs": [],
   "source": [
    "def np_grad_fn(w, X, y):\n",
    "    '''\n",
    "    Given `w` - a current \"Guess\" of what our weights should be\n",
    "          `X` - matrix of shape (m, n + 1) of input features\n",
    "          `y` - target y values\n",
    "    Return gradient of each weight evaluated at the current value\n",
    "    '''\n",
    "    \n",
    "    #TODO: Complete the below followed the above expressions\n",
    "    grad_w = np.zeros(np.array(w).shape)\n",
    "    m = X.shape[0]\n",
    "    y_hat = np.dot(X, w)\n",
    "    for j in range(grad_w.shape[0]):\n",
    "        for i in range(m):\n",
    "            grad_w[j] += (y_hat[i] - y[i])*X[i, j]/m\n",
    "    return grad_w"
   ]
  },
  {
   "cell_type": "markdown",
   "metadata": {
    "id": "bVA6Oxnn0NS-"
   },
   "source": [
    "# Định nghĩa ma trận X_new\n",
    " - Là ma trận có nhiều hơn ma trận X một cột có giá trị bằng 1 để làm đối số với bias"
   ]
  },
  {
   "cell_type": "code",
   "execution_count": 105,
   "metadata": {
    "id": "sK9W53uY52yn"
   },
   "outputs": [],
   "source": [
    "train_X_new=np.zeros([train_X.shape[0],train_X.shape[1]+1])\n",
    "train_X_new[:,-1]=1\n",
    "train_X_new[:,:-1]=train_X\n",
    "\n",
    "test_X_new=np.zeros([test_X.shape[0],test_X.shape[1]+1])\n",
    "test_X_new[:,-1]=1\n",
    "test_X_new[:,:-1]=test_X"
   ]
  },
  {
   "cell_type": "code",
   "execution_count": 106,
   "metadata": {
    "colab": {
     "base_uri": "https://localhost:8080/"
    },
    "id": "Ty2o4Dzd7pKm",
    "outputId": "568ed7cd-2193-47a6-81ee-f8e149e1e7a4"
   },
   "outputs": [
    {
     "data": {
      "text/plain": [
       "array([ -217.68376238,  -147.00929827, -1453.76752475,   -90.64052676,\n",
       "        -406.06965347,   -22.61188119])"
      ]
     },
     "execution_count": 106,
     "metadata": {},
     "output_type": "execute_result"
    }
   ],
   "source": [
    "w = [0,0,0,0,0,0]\n",
    "np_grad_fn(w, train_X_new, train_y)"
   ]
  },
  {
   "cell_type": "markdown",
   "metadata": {
    "id": "z-OV-Hgo7pKm"
   },
   "source": [
    "#### 4.2 Viết chương trình theo dạng vectorized\n",
    "$$\\nabla J(w) = \\frac{1}{m} X^T \\left( Xw - y \\right)$$ "
   ]
  },
  {
   "cell_type": "code",
   "execution_count": 107,
   "metadata": {
    "id": "1JR3S5uJ7pKn"
   },
   "outputs": [],
   "source": [
    "def np_grad_fn_vectorized(w, X, y):\n",
    "    '''\n",
    "    Given `w` - a current \"Guess\" of what our weights should be\n",
    "          `X` - matrix of shape (m, n + 1) of input features\n",
    "          `y` - target y values\n",
    "    Return gradient of each weight evaluated at the current value\n",
    "    '''\n",
    "    \n",
    "    #TODO: Complete the below followed the above expressions\n",
    "    m, n = X.shape\n",
    "    y_hat = np.dot(X, w)\n",
    "    grad_w = np.dot(X.T, y_hat - y)/m\n",
    "    \n",
    "    return grad_w"
   ]
  },
  {
   "cell_type": "code",
   "execution_count": 108,
   "metadata": {
    "colab": {
     "base_uri": "https://localhost:8080/"
    },
    "id": "R1OPa1SK7pKn",
    "outputId": "95994b03-9b75-421e-8c76-62852f221adc"
   },
   "outputs": [
    {
     "data": {
      "text/plain": [
       "array([ -217.68376238,  -147.00929827, -1453.76752475,   -90.64052676,\n",
       "        -406.06965347,   -22.61188119])"
      ]
     },
     "execution_count": 108,
     "metadata": {},
     "output_type": "execute_result"
    }
   ],
   "source": [
    "w = [0,0,0,0,0,0]\n",
    "np_grad_fn_vectorized(w, train_X_new, train_y) #[-183.46936646, -130.26687224,  -19.93917772]"
   ]
  },
  {
   "cell_type": "markdown",
   "metadata": {
    "id": "jA5BYEB07pKn"
   },
   "source": [
    "#### Bài  5. Tính dựa trên Gradient Descent\n",
    "\n",
    "Xấp xỉ giá trị $w$ như sau\n",
    "\n",
    "$$ w_j = w_j - \\alpha * \\frac{\\partial J}{\\partial w_j}$$\n",
    "\n",
    "#### 5.1 Viết chương trình"
   ]
  },
  {
   "cell_type": "code",
   "execution_count": 109,
   "metadata": {
    "id": "UUDdW-rf7pKo"
   },
   "outputs": [],
   "source": [
    "def np_solve_via_gradient_descent(X, y, print_every=5000,\n",
    "                                  niter=100000, alpha=0.005):\n",
    "    '''\n",
    "    Given `X` - matrix of shape (m, n+1) of input features\n",
    "          `y` - target y values\n",
    "    Solves for linear regression weights.\n",
    "    Return weights after `niter` iterations.\n",
    "    '''\n",
    "    m, n = X.shape\n",
    "    # initialize all the weights to zeros\n",
    "    w = np.zeros((n,))\n",
    "    for k in range(niter):\n",
    "        \n",
    "        #TODO: Complete the below followed the above expressions\n",
    "        dw = np_grad_fn_vectorized(w, X, y) \n",
    "        w = w - alpha*dw\n",
    "        \n",
    "        if k % print_every == 0:\n",
    "            print('Weight after %d iteration: %s' % (k, str(w)))\n",
    "    return w"
   ]
  },
  {
   "cell_type": "markdown",
   "metadata": {
    "id": "-gH2bWZp7pKo"
   },
   "source": [
    "#### 5.2 Chạy thử chương trình"
   ]
  },
  {
   "cell_type": "code",
   "execution_count": 110,
   "metadata": {
    "colab": {
     "base_uri": "https://localhost:8080/"
    },
    "id": "fVsWNd_t7pKo",
    "outputId": "ab4f7b41-1d42-4422-c0b5-238ebb09fc85"
   },
   "outputs": [
    {
     "name": "stdout",
     "output_type": "stream",
     "text": [
      "Weight after 0 iteration: [0.06530513 0.04410279 0.43613026 0.02719216 0.1218209  0.00678356]\n",
      "Weight after 5000 iteration: [-0.27226975  5.92591629 -0.0285906   0.03149137 -0.56916609  0.5090653 ]\n",
      "Weight after 10000 iteration: [-0.23541685  7.20156118 -0.0533114  -0.42215954 -0.84553457  0.66002292]\n",
      "Weight after 15000 iteration: [-0.2307137   7.51585347 -0.06036821 -0.56128181 -0.90452153  0.74711453]\n",
      "Weight after 20000 iteration: [-0.22998654  7.59187545 -0.06227338 -0.59940832 -0.91958918  0.81839067]\n",
      "Weight after 25000 iteration: [-0.22996296  7.60754316 -0.06281428 -0.61019129 -0.92428111  0.88543926]\n",
      "Weight after 30000 iteration: [-0.23009563  7.60783691 -0.06300266 -0.61386646 -0.92637871  0.95117304]\n",
      "Weight after 35000 iteration: [-0.23026588  7.60422051 -0.06310039 -0.61571148 -0.9278132   1.01633416]\n",
      "Weight after 40000 iteration: [-0.23044496  7.59962248 -0.06317468 -0.61708351 -0.92907408  1.0811133 ]\n",
      "Weight after 45000 iteration: [-0.23062562  7.59479134 -0.06324275 -0.61833016 -0.93028624  1.14556031]\n",
      "Weight after 50000 iteration: [-0.23080603  7.58991841 -0.06330897 -0.61954039 -0.93148161  1.20968911]\n",
      "Weight after 55000 iteration: [-0.23098573  7.58505252 -0.06337449 -0.62073696 -0.93266837  1.27350437]\n",
      "Weight after 60000 iteration: [-0.23116459  7.58020607 -0.06343959 -0.62192571 -0.93384864  1.33700843]\n",
      "Weight after 65000 iteration: [-0.23134258  7.57538213 -0.06350436 -0.62310816 -0.93502297  1.400203  ]\n",
      "Weight after 70000 iteration: [-0.23151972  7.57058142 -0.06356879 -0.62428473 -0.93619154  1.46308966]\n",
      "Weight after 75000 iteration: [-0.23169599  7.56580403 -0.06363292 -0.62545552 -0.9373544   1.52566991]\n",
      "Weight after 80000 iteration: [-0.2318714   7.5610499  -0.06369673 -0.62662061 -0.93851159  1.58794525]\n",
      "Weight after 85000 iteration: [-0.23204596  7.55631893 -0.06376023 -0.62778001 -0.93966315  1.64991717]\n",
      "Weight after 90000 iteration: [-0.23221967  7.551611   -0.06382341 -0.62893377 -0.94080909  1.71158714]\n",
      "Weight after 95000 iteration: [-0.23239253  7.54692602 -0.0638863  -0.6300819  -0.94194945  1.77295663]\n",
      "Weight after 100000 iteration: [-0.23256455  7.54226386 -0.06394887 -0.63122444 -0.94308425  1.83402712]\n",
      "Weight after 105000 iteration: [-0.23273573  7.53762441 -0.06401114 -0.63236141 -0.94421353  1.89480005]\n",
      "Weight after 110000 iteration: [-0.23290608  7.53300758 -0.06407311 -0.63349284 -0.9453373   1.95527688]\n",
      "Weight after 115000 iteration: [-0.23307559  7.52841323 -0.06413477 -0.63461876 -0.94645559  2.01545905]\n",
      "Weight after 120000 iteration: [-0.23324428  7.52384127 -0.06419614 -0.6357392  -0.94756844  2.07534799]\n",
      "Weight after 125000 iteration: [-0.23341215  7.51929159 -0.0642572  -0.63685417 -0.94867587  2.13494514]\n",
      "Weight after 130000 iteration: [-0.2335792   7.51476407 -0.06431797 -0.63796372 -0.9497779   2.19425191]\n",
      "Weight after 135000 iteration: [-0.23374544  7.51025862 -0.06437845 -0.63906785 -0.95087456  2.25326973]\n",
      "Weight after 140000 iteration: [-0.23391087  7.50577511 -0.06443862 -0.64016661 -0.95196587  2.31199999]\n",
      "Weight after 145000 iteration: [-0.23407549  7.50131345 -0.06449851 -0.64126002 -0.95305187  2.3704441 ]\n",
      "Weight after 150000 iteration: [-0.23423931  7.49687353 -0.0645581  -0.64234809 -0.95413258  2.42860345]\n",
      "Weight after 155000 iteration: [-0.23440233  7.49245524 -0.0646174  -0.64343087 -0.95520803  2.48647943]\n",
      "Weight after 160000 iteration: [-0.23456456  7.48805848 -0.06467641 -0.64450837 -0.95627823  2.54407343]\n",
      "Weight after 165000 iteration: [-0.23472599  7.48368314 -0.06473514 -0.64558062 -0.95734322  2.60138681]\n",
      "Weight after 170000 iteration: [-0.23488664  7.47932912 -0.06479358 -0.64664764 -0.95840302  2.65842094]\n",
      "Weight after 175000 iteration: [-0.23504651  7.47499631 -0.06485173 -0.64770947 -0.95945766  2.71517718]\n",
      "Weight after 180000 iteration: [-0.2352056   7.47068461 -0.06490961 -0.64876612 -0.96050715  2.7716569 ]\n",
      "Weight after 185000 iteration: [-0.23536391  7.46639392 -0.0649672  -0.64981763 -0.96155154  2.82786142]\n",
      "Weight after 190000 iteration: [-0.23552145  7.46212414 -0.0650245  -0.65086401 -0.96259083  2.8837921 ]\n",
      "Weight after 195000 iteration: [-0.23567823  7.45787516 -0.06508153 -0.65190529 -0.96362507  2.93945028]\n",
      "Weight after 200000 iteration: [-0.23583424  7.45364688 -0.06513829 -0.6529415  -0.96465426  2.99483726]\n",
      "Weight after 205000 iteration: [-0.23598949  7.44943921 -0.06519476 -0.65397266 -0.96567844  3.04995439]\n",
      "Weight after 210000 iteration: [-0.23614398  7.44525203 -0.06525096 -0.6549988  -0.96669762  3.10480297]\n",
      "Weight after 215000 iteration: [-0.23629772  7.44108526 -0.06530689 -0.65601993 -0.96771185  3.15938431]\n",
      "Weight after 220000 iteration: [-0.23645071  7.43693879 -0.06536254 -0.6570361  -0.96872113  3.21369972]\n",
      "Weight after 225000 iteration: [-0.23660296  7.43281252 -0.06541792 -0.65804731 -0.96972549  3.26775048]\n",
      "Weight after 230000 iteration: [-0.23675446  7.42870635 -0.06547304 -0.65905359 -0.97072496  3.32153789]\n",
      "Weight after 235000 iteration: [-0.23690523  7.42462019 -0.06552788 -0.66005497 -0.97171956  3.37506324]\n",
      "Weight after 240000 iteration: [-0.23705526  7.42055395 -0.06558246 -0.66105147 -0.97270932  3.42832779]\n",
      "Weight after 245000 iteration: [-0.23720456  7.41650751 -0.06563677 -0.66204312 -0.97369425  3.48133283]\n",
      "Weight after 250000 iteration: [-0.23735313  7.41248079 -0.06569082 -0.66302994 -0.97467438  3.53407961]\n",
      "Weight after 255000 iteration: [-0.23750098  7.40847368 -0.0657446  -0.66401194 -0.97564974  3.58656939]\n",
      "Weight after 260000 iteration: [-0.23764811  7.4044861  -0.06579812 -0.66498916 -0.97662034  3.63880342]\n",
      "Weight after 265000 iteration: [-0.23779453  7.40051795 -0.06585138 -0.66596163 -0.97758622  3.69078296]\n",
      "Weight after 270000 iteration: [-0.23794022  7.39656914 -0.06590438 -0.66692935 -0.97854739  3.74250923]\n",
      "Weight after 275000 iteration: [-0.23808521  7.39263956 -0.06595712 -0.66789236 -0.97950388  3.79398348]\n",
      "Weight after 280000 iteration: [-0.2382295   7.38872913 -0.06600961 -0.66885067 -0.9804557   3.84520693]\n",
      "Weight after 285000 iteration: [-0.23837308  7.38483775 -0.06606184 -0.66980432 -0.98140289  3.89618081]\n",
      "Weight after 290000 iteration: [-0.23851596  7.38096533 -0.06611381 -0.67075332 -0.98234547  3.94690633]\n",
      "Weight after 295000 iteration: [-0.23865814  7.37711178 -0.06616554 -0.6716977  -0.98328345  3.9973847 ]\n"
     ]
    }
   ],
   "source": [
    "opt_w = np_solve_via_gradient_descent(train_X_new, train_y, niter=300000,alpha=0.0003)"
   ]
  },
  {
   "cell_type": "code",
   "execution_count": 111,
   "metadata": {
    "colab": {
     "base_uri": "https://localhost:8080/"
    },
    "id": "w3bUqzni7pKp",
    "outputId": "2ed7676f-2068-41b3-cdc0-a7ed054e9439"
   },
   "outputs": [
    {
     "name": "stdout",
     "output_type": "stream",
     "text": [
      "Training cost: 14.867328054721167\n"
     ]
    }
   ],
   "source": [
    "print(\"Training cost:\", np_cost_vectorized(opt_w[:5], opt_w[-1], train_X, train_y)) # 18.502043170574055"
   ]
  },
  {
   "cell_type": "code",
   "execution_count": 112,
   "metadata": {
    "colab": {
     "base_uri": "https://localhost:8080/"
    },
    "id": "ZZ5IejnU7pKp",
    "outputId": "94c1dc7c-8877-4b60-b906-01ac3f4813c7"
   },
   "outputs": [
    {
     "name": "stdout",
     "output_type": "stream",
     "text": [
      "Testing cost: 23.19417009426707\n"
     ]
    }
   ],
   "source": [
    "print(\"Testing cost:\", np_cost_vectorized(opt_w[:5], opt_w[-1], test_X, test_y)) # 24.051240417619557"
   ]
  },
  {
   "cell_type": "markdown",
   "metadata": {
    "id": "eqDWGf2DzCZ4"
   },
   "source": [
    "# Tính y predict"
   ]
  },
  {
   "cell_type": "code",
   "execution_count": 113,
   "metadata": {
    "id": "HpUpaC_W7pKp"
   },
   "outputs": [],
   "source": [
    "predict_y=test_X_new@opt_w"
   ]
  },
  {
   "cell_type": "code",
   "execution_count": 114,
   "metadata": {
    "colab": {
     "base_uri": "https://localhost:8080/",
     "height": 424
    },
    "id": "80U4KzR87V3T",
    "outputId": "c70a74ee-7108-4643-9d40-2aef5eae58fd"
   },
   "outputs": [
    {
     "data": {
      "text/html": [
       "<div>\n",
       "<style scoped>\n",
       "    .dataframe tbody tr th:only-of-type {\n",
       "        vertical-align: middle;\n",
       "    }\n",
       "\n",
       "    .dataframe tbody tr th {\n",
       "        vertical-align: top;\n",
       "    }\n",
       "\n",
       "    .dataframe thead th {\n",
       "        text-align: right;\n",
       "    }\n",
       "</style>\n",
       "<table border=\"1\" class=\"dataframe\">\n",
       "  <thead>\n",
       "    <tr style=\"text-align: right;\">\n",
       "      <th></th>\n",
       "      <th>y</th>\n",
       "      <th>predict_y</th>\n",
       "    </tr>\n",
       "  </thead>\n",
       "  <tbody>\n",
       "    <tr>\n",
       "      <th>0</th>\n",
       "      <td>22.6</td>\n",
       "      <td>28.689136</td>\n",
       "    </tr>\n",
       "    <tr>\n",
       "      <th>1</th>\n",
       "      <td>50.0</td>\n",
       "      <td>18.268372</td>\n",
       "    </tr>\n",
       "    <tr>\n",
       "      <th>2</th>\n",
       "      <td>23.0</td>\n",
       "      <td>23.198695</td>\n",
       "    </tr>\n",
       "    <tr>\n",
       "      <th>3</th>\n",
       "      <td>8.3</td>\n",
       "      <td>11.781622</td>\n",
       "    </tr>\n",
       "    <tr>\n",
       "      <th>4</th>\n",
       "      <td>21.2</td>\n",
       "      <td>21.600700</td>\n",
       "    </tr>\n",
       "    <tr>\n",
       "      <th>...</th>\n",
       "      <td>...</td>\n",
       "      <td>...</td>\n",
       "    </tr>\n",
       "    <tr>\n",
       "      <th>97</th>\n",
       "      <td>24.7</td>\n",
       "      <td>25.363710</td>\n",
       "    </tr>\n",
       "    <tr>\n",
       "      <th>98</th>\n",
       "      <td>14.1</td>\n",
       "      <td>20.588615</td>\n",
       "    </tr>\n",
       "    <tr>\n",
       "      <th>99</th>\n",
       "      <td>18.7</td>\n",
       "      <td>16.519846</td>\n",
       "    </tr>\n",
       "    <tr>\n",
       "      <th>100</th>\n",
       "      <td>28.1</td>\n",
       "      <td>25.424303</td>\n",
       "    </tr>\n",
       "    <tr>\n",
       "      <th>101</th>\n",
       "      <td>19.8</td>\n",
       "      <td>21.101825</td>\n",
       "    </tr>\n",
       "  </tbody>\n",
       "</table>\n",
       "<p>102 rows × 2 columns</p>\n",
       "</div>"
      ],
      "text/plain": [
       "        y  predict_y\n",
       "0    22.6  28.689136\n",
       "1    50.0  18.268372\n",
       "2    23.0  23.198695\n",
       "3     8.3  11.781622\n",
       "4    21.2  21.600700\n",
       "..    ...        ...\n",
       "97   24.7  25.363710\n",
       "98   14.1  20.588615\n",
       "99   18.7  16.519846\n",
       "100  28.1  25.424303\n",
       "101  19.8  21.101825\n",
       "\n",
       "[102 rows x 2 columns]"
      ]
     },
     "execution_count": 114,
     "metadata": {},
     "output_type": "execute_result"
    }
   ],
   "source": [
    "pd.DataFrame({'y':test_y,'predict_y':predict_y})"
   ]
  },
  {
   "cell_type": "markdown",
   "metadata": {
    "id": "wvkVvzcOzRY6"
   },
   "source": [
    "# Plot y_test, y_predict"
   ]
  },
  {
   "cell_type": "code",
   "execution_count": 115,
   "metadata": {
    "colab": {
     "base_uri": "https://localhost:8080/",
     "height": 880
    },
    "id": "5wGuzC4H7dHk",
    "outputId": "fa374cb9-4065-4bbf-df23-9764b00f481a"
   },
   "outputs": [
    {
     "data": {
      "text/plain": [
       "[<matplotlib.lines.Line2D at 0x216026c9970>]"
      ]
     },
     "execution_count": 115,
     "metadata": {},
     "output_type": "execute_result"
    },
    {
     "data": {
      "image/png": "[encoded data removed]",
      "text/plain": [
       "<Figure size 1080x1080 with 1 Axes>"
      ]
     },
     "metadata": {
      "needs_background": "light"
     },
     "output_type": "display_data"
    }
   ],
   "source": [
    "plt.subplots(figsize=[15,15])\n",
    "plt.scatter(test_y,predict_y)\n",
    "plt.plot(test_y,test_y,'r')"
   ]
  },
  {
   "cell_type": "markdown",
   "metadata": {},
   "source": [
    "### II. Thực hiện bằng `Tensorflow`"
   ]
  },
  {
   "cell_type": "markdown",
   "metadata": {},
   "source": [
    "#### Load dataset"
   ]
  },
  {
   "cell_type": "code",
   "execution_count": 116,
   "metadata": {},
   "outputs": [
    {
     "data": {
      "text/html": [
       "<div>\n",
       "<style scoped>\n",
       "    .dataframe tbody tr th:only-of-type {\n",
       "        vertical-align: middle;\n",
       "    }\n",
       "\n",
       "    .dataframe tbody tr th {\n",
       "        vertical-align: top;\n",
       "    }\n",
       "\n",
       "    .dataframe thead th {\n",
       "        text-align: right;\n",
       "    }\n",
       "</style>\n",
       "<table border=\"1\" class=\"dataframe\">\n",
       "  <thead>\n",
       "    <tr style=\"text-align: right;\">\n",
       "      <th></th>\n",
       "      <th>crim</th>\n",
       "      <th>zn</th>\n",
       "      <th>indus</th>\n",
       "      <th>chas</th>\n",
       "      <th>nox</th>\n",
       "      <th>rm</th>\n",
       "      <th>age</th>\n",
       "      <th>dis</th>\n",
       "      <th>rad</th>\n",
       "      <th>tax</th>\n",
       "      <th>ptratio</th>\n",
       "      <th>black</th>\n",
       "      <th>lstat</th>\n",
       "      <th>medv</th>\n",
       "    </tr>\n",
       "  </thead>\n",
       "  <tbody>\n",
       "    <tr>\n",
       "      <th>1</th>\n",
       "      <td>0.00632</td>\n",
       "      <td>18.0</td>\n",
       "      <td>2.31</td>\n",
       "      <td>0</td>\n",
       "      <td>0.538</td>\n",
       "      <td>6.575</td>\n",
       "      <td>65.2</td>\n",
       "      <td>4.0900</td>\n",
       "      <td>1</td>\n",
       "      <td>296.0</td>\n",
       "      <td>15.3</td>\n",
       "      <td>396.90</td>\n",
       "      <td>4.98</td>\n",
       "      <td>24.0</td>\n",
       "    </tr>\n",
       "    <tr>\n",
       "      <th>2</th>\n",
       "      <td>0.02731</td>\n",
       "      <td>0.0</td>\n",
       "      <td>7.07</td>\n",
       "      <td>0</td>\n",
       "      <td>0.469</td>\n",
       "      <td>6.421</td>\n",
       "      <td>78.9</td>\n",
       "      <td>4.9671</td>\n",
       "      <td>2</td>\n",
       "      <td>242.0</td>\n",
       "      <td>17.8</td>\n",
       "      <td>396.90</td>\n",
       "      <td>9.14</td>\n",
       "      <td>21.6</td>\n",
       "    </tr>\n",
       "    <tr>\n",
       "      <th>3</th>\n",
       "      <td>0.02729</td>\n",
       "      <td>0.0</td>\n",
       "      <td>7.07</td>\n",
       "      <td>0</td>\n",
       "      <td>0.469</td>\n",
       "      <td>7.185</td>\n",
       "      <td>61.1</td>\n",
       "      <td>4.9671</td>\n",
       "      <td>2</td>\n",
       "      <td>242.0</td>\n",
       "      <td>17.8</td>\n",
       "      <td>392.83</td>\n",
       "      <td>4.03</td>\n",
       "      <td>34.7</td>\n",
       "    </tr>\n",
       "    <tr>\n",
       "      <th>4</th>\n",
       "      <td>0.03237</td>\n",
       "      <td>0.0</td>\n",
       "      <td>2.18</td>\n",
       "      <td>0</td>\n",
       "      <td>0.458</td>\n",
       "      <td>6.998</td>\n",
       "      <td>45.8</td>\n",
       "      <td>6.0622</td>\n",
       "      <td>3</td>\n",
       "      <td>222.0</td>\n",
       "      <td>18.7</td>\n",
       "      <td>394.63</td>\n",
       "      <td>2.94</td>\n",
       "      <td>33.4</td>\n",
       "    </tr>\n",
       "    <tr>\n",
       "      <th>5</th>\n",
       "      <td>0.06905</td>\n",
       "      <td>0.0</td>\n",
       "      <td>2.18</td>\n",
       "      <td>0</td>\n",
       "      <td>0.458</td>\n",
       "      <td>7.147</td>\n",
       "      <td>54.2</td>\n",
       "      <td>6.0622</td>\n",
       "      <td>3</td>\n",
       "      <td>222.0</td>\n",
       "      <td>18.7</td>\n",
       "      <td>396.90</td>\n",
       "      <td>5.33</td>\n",
       "      <td>36.2</td>\n",
       "    </tr>\n",
       "    <tr>\n",
       "      <th>...</th>\n",
       "      <td>...</td>\n",
       "      <td>...</td>\n",
       "      <td>...</td>\n",
       "      <td>...</td>\n",
       "      <td>...</td>\n",
       "      <td>...</td>\n",
       "      <td>...</td>\n",
       "      <td>...</td>\n",
       "      <td>...</td>\n",
       "      <td>...</td>\n",
       "      <td>...</td>\n",
       "      <td>...</td>\n",
       "      <td>...</td>\n",
       "      <td>...</td>\n",
       "    </tr>\n",
       "    <tr>\n",
       "      <th>502</th>\n",
       "      <td>0.06263</td>\n",
       "      <td>0.0</td>\n",
       "      <td>11.93</td>\n",
       "      <td>0</td>\n",
       "      <td>0.573</td>\n",
       "      <td>6.593</td>\n",
       "      <td>69.1</td>\n",
       "      <td>2.4786</td>\n",
       "      <td>1</td>\n",
       "      <td>273.0</td>\n",
       "      <td>21.0</td>\n",
       "      <td>391.99</td>\n",
       "      <td>9.67</td>\n",
       "      <td>22.4</td>\n",
       "    </tr>\n",
       "    <tr>\n",
       "      <th>503</th>\n",
       "      <td>0.04527</td>\n",
       "      <td>0.0</td>\n",
       "      <td>11.93</td>\n",
       "      <td>0</td>\n",
       "      <td>0.573</td>\n",
       "      <td>6.120</td>\n",
       "      <td>76.7</td>\n",
       "      <td>2.2875</td>\n",
       "      <td>1</td>\n",
       "      <td>273.0</td>\n",
       "      <td>21.0</td>\n",
       "      <td>396.90</td>\n",
       "      <td>9.08</td>\n",
       "      <td>20.6</td>\n",
       "    </tr>\n",
       "    <tr>\n",
       "      <th>504</th>\n",
       "      <td>0.06076</td>\n",
       "      <td>0.0</td>\n",
       "      <td>11.93</td>\n",
       "      <td>0</td>\n",
       "      <td>0.573</td>\n",
       "      <td>6.976</td>\n",
       "      <td>91.0</td>\n",
       "      <td>2.1675</td>\n",
       "      <td>1</td>\n",
       "      <td>273.0</td>\n",
       "      <td>21.0</td>\n",
       "      <td>396.90</td>\n",
       "      <td>5.64</td>\n",
       "      <td>23.9</td>\n",
       "    </tr>\n",
       "    <tr>\n",
       "      <th>505</th>\n",
       "      <td>0.10959</td>\n",
       "      <td>0.0</td>\n",
       "      <td>11.93</td>\n",
       "      <td>0</td>\n",
       "      <td>0.573</td>\n",
       "      <td>6.794</td>\n",
       "      <td>89.3</td>\n",
       "      <td>2.3889</td>\n",
       "      <td>1</td>\n",
       "      <td>273.0</td>\n",
       "      <td>21.0</td>\n",
       "      <td>393.45</td>\n",
       "      <td>6.48</td>\n",
       "      <td>22.0</td>\n",
       "    </tr>\n",
       "    <tr>\n",
       "      <th>506</th>\n",
       "      <td>0.04741</td>\n",
       "      <td>0.0</td>\n",
       "      <td>11.93</td>\n",
       "      <td>0</td>\n",
       "      <td>0.573</td>\n",
       "      <td>6.030</td>\n",
       "      <td>80.8</td>\n",
       "      <td>2.5050</td>\n",
       "      <td>1</td>\n",
       "      <td>273.0</td>\n",
       "      <td>21.0</td>\n",
       "      <td>396.90</td>\n",
       "      <td>7.88</td>\n",
       "      <td>11.9</td>\n",
       "    </tr>\n",
       "  </tbody>\n",
       "</table>\n",
       "<p>506 rows × 14 columns</p>\n",
       "</div>"
      ],
      "text/plain": [
       "        crim    zn  indus  chas    nox     rm   age     dis  rad    tax  \\\n",
       "1    0.00632  18.0   2.31     0  0.538  6.575  65.2  4.0900    1  296.0   \n",
       "2    0.02731   0.0   7.07     0  0.469  6.421  78.9  4.9671    2  242.0   \n",
       "3    0.02729   0.0   7.07     0  0.469  7.185  61.1  4.9671    2  242.0   \n",
       "4    0.03237   0.0   2.18     0  0.458  6.998  45.8  6.0622    3  222.0   \n",
       "5    0.06905   0.0   2.18     0  0.458  7.147  54.2  6.0622    3  222.0   \n",
       "..       ...   ...    ...   ...    ...    ...   ...     ...  ...    ...   \n",
       "502  0.06263   0.0  11.93     0  0.573  6.593  69.1  2.4786    1  273.0   \n",
       "503  0.04527   0.0  11.93     0  0.573  6.120  76.7  2.2875    1  273.0   \n",
       "504  0.06076   0.0  11.93     0  0.573  6.976  91.0  2.1675    1  273.0   \n",
       "505  0.10959   0.0  11.93     0  0.573  6.794  89.3  2.3889    1  273.0   \n",
       "506  0.04741   0.0  11.93     0  0.573  6.030  80.8  2.5050    1  273.0   \n",
       "\n",
       "     ptratio   black  lstat  medv  \n",
       "1       15.3  396.90   4.98  24.0  \n",
       "2       17.8  396.90   9.14  21.6  \n",
       "3       17.8  392.83   4.03  34.7  \n",
       "4       18.7  394.63   2.94  33.4  \n",
       "5       18.7  396.90   5.33  36.2  \n",
       "..       ...     ...    ...   ...  \n",
       "502     21.0  391.99   9.67  22.4  \n",
       "503     21.0  396.90   9.08  20.6  \n",
       "504     21.0  396.90   5.64  23.9  \n",
       "505     21.0  393.45   6.48  22.0  \n",
       "506     21.0  396.90   7.88  11.9  \n",
       "\n",
       "[506 rows x 14 columns]"
      ]
     },
     "execution_count": 116,
     "metadata": {},
     "output_type": "execute_result"
    }
   ],
   "source": [
    "data=pd.read_csv(r'C:\\Users\\Thanh Long\\Desktop\\AI\\data\\housing.csv', delim_whitespace=' ', header=None)\n",
    "data.columns=['crim','zn','indus','chas','nox','rm','age','dis','rad','tax','ptratio','black','lstat','medv']\n",
    "data.index = np.arange(1, len(data)+1)\n",
    "data"
   ]
  },
  {
   "cell_type": "code",
   "execution_count": 117,
   "metadata": {},
   "outputs": [],
   "source": [
    "X = data.drop('medv', axis = 1)\n",
    "y = data['medv']"
   ]
  },
  {
   "cell_type": "markdown",
   "metadata": {},
   "source": [
    "#### Chia bộ dữ liệu thành train_test"
   ]
  },
  {
   "cell_type": "code",
   "execution_count": 143,
   "metadata": {},
   "outputs": [],
   "source": [
    "from sklearn.model_selection import train_test_split\n",
    "\n",
    "train_X,test_X,train_y,test_y=train_test_split(X,y,train_size=0.7,random_state=0)"
   ]
  },
  {
   "cell_type": "code",
   "execution_count": 144,
   "metadata": {},
   "outputs": [],
   "source": [
    "from sklearn.preprocessing import StandardScaler\n",
    "sc_X = StandardScaler()\n",
    "train_X = sc_X.fit_transform(train_X)\n",
    "test_X = sc_X.transform(test_X)"
   ]
  },
  {
   "cell_type": "code",
   "execution_count": 145,
   "metadata": {},
   "outputs": [
    {
     "data": {
      "text/plain": [
       "Text(0.5, 1.0, 'Prices vs Predicted prices: $Y_i$ vs $\\\\hat{Y}_i$')"
      ]
     },
     "execution_count": 145,
     "metadata": {},
     "output_type": "execute_result"
    },
    {
     "data": {
      "image/png": "[encoded data removed]",
      "text/plain": [
       "<Figure size 921.6x633.6 with 1 Axes>"
      ]
     },
     "metadata": {
      "needs_background": "light"
     },
     "output_type": "display_data"
    }
   ],
   "source": [
    "from sklearn.linear_model import LinearRegression\n",
    "\n",
    "lr = LinearRegression()\n",
    "lr.fit(train_X, train_y)\n",
    "\n",
    "y_pred = lr.predict(test_X)\n",
    "plt.style.use('seaborn-poster')\n",
    "plt.scatter(test_y,y_pred)\n",
    "plt.xlabel(\"Prices: $Y_i$\")\n",
    "plt.ylabel(\"Predicted prices: $\\hat{Y}_i$\")\n",
    "plt.title(\"Prices vs Predicted prices: $Y_i$ vs $\\hat{Y}_i$\")"
   ]
  },
  {
   "cell_type": "markdown",
   "metadata": {},
   "source": [
    "#### Sai số trung bình của mô hình"
   ]
  },
  {
   "cell_type": "code",
   "execution_count": 146,
   "metadata": {},
   "outputs": [
    {
     "data": {
      "text/plain": [
       "27.195965766883198"
      ]
     },
     "execution_count": 146,
     "metadata": {},
     "output_type": "execute_result"
    }
   ],
   "source": [
    "mse = sklearn.metrics.mean_squared_error(test_y, y_pred)\n",
    "mse"
   ]
  },
  {
   "cell_type": "code",
   "execution_count": 147,
   "metadata": {},
   "outputs": [
    {
     "data": {
      "text/plain": [
       "0.6733825506400196"
      ]
     },
     "execution_count": 147,
     "metadata": {},
     "output_type": "execute_result"
    }
   ],
   "source": [
    "sklearn.metrics.r2_score(test_y,y_pred)"
   ]
  },
  {
   "cell_type": "code",
   "execution_count": 148,
   "metadata": {},
   "outputs": [
    {
     "data": {
      "text/plain": [
       "0.6733825506400196"
      ]
     },
     "execution_count": 148,
     "metadata": {},
     "output_type": "execute_result"
    }
   ],
   "source": [
    "lr.score(test_X,test_y)"
   ]
  },
  {
   "cell_type": "code",
   "execution_count": 149,
   "metadata": {},
   "outputs": [
    {
     "data": {
      "text/plain": [
       "0.7633167147255946"
      ]
     },
     "execution_count": 149,
     "metadata": {},
     "output_type": "execute_result"
    }
   ],
   "source": [
    "from sklearn import linear_model\n",
    "ridge = linear_model.Ridge(alpha=10)\n",
    "ridge.fit(train_X,train_y)\n",
    "ridge.score(train_X,train_y)"
   ]
  },
  {
   "cell_type": "code",
   "execution_count": 150,
   "metadata": {},
   "outputs": [
    {
     "data": {
      "text/plain": [
       "0.7633167147255946"
      ]
     },
     "execution_count": 150,
     "metadata": {},
     "output_type": "execute_result"
    }
   ],
   "source": [
    "ridge.score(train_X,train_y)\n"
   ]
  }
 ],
 "metadata": {
  "colab": {
   "name": "Bai 1 nop.ipynb",
   "provenance": []
  },
  "kernelspec": {
   "display_name": "Python 3 (ipykernel)",
   "language": "python",
   "name": "python3"
  },
  "language_info": {
   "codemirror_mode": {
    "name": "ipython",
    "version": 3
   },
   "file_extension": ".py",
   "mimetype": "text/x-python",
   "name": "python",
   "nbconvert_exporter": "python",
   "pygments_lexer": "ipython3",
   "version": "3.9.12"
  }
 },
 "nbformat": 4,
 "nbformat_minor": 1
}
